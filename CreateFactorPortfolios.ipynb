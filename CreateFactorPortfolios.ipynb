{
 "cells": [
  {
   "cell_type": "code",
   "execution_count": 1,
   "metadata": {},
   "outputs": [],
   "source": [
    "import pandas as pd\n",
    "import numpy as np"
   ]
  },
  {
   "cell_type": "code",
   "execution_count": 3,
   "metadata": {},
   "outputs": [],
   "source": [
    "Market_exp_df = pd.read_pickle('database\\MarketExposure26Oct20.pickle')\n",
    "Momentum_exp_df = pd.read_pickle('database\\MomentumExposure26Oct20.pickle')\n",
    "Quality_exp_df = pd.read_pickle('database\\QualityExposure26Oct20.pickle')\n",
    "Value_exp_df = pd.read_pickle('database\\ValueExposure26Oct20.pickle')\n",
    "Liquidity_exp_df = pd.read_pickle('database\\LiquidityExposure26Oct20.pickle')\n",
    "Size_exp_df = pd.read_pickle('database\\SizeExposure26Oct20.pickle')\n",
    "nifty_200 = pd.read_csv('database\\ind_nifty200list.csv')"
   ]
  },
  {
   "cell_type": "code",
   "execution_count": 5,
   "metadata": {},
   "outputs": [],
   "source": [
    "stock_count = 25\n",
    "\n",
    "Market_position_df = pd.DataFrame(columns=nifty_200.Symbol.values, index=Market_exp_df.index)\n",
    "Momentum_position_df = pd.DataFrame(columns=nifty_200.Symbol.values, index=Momentum_exp_df.index)\n",
    "Quality_position_df = pd.DataFrame(columns=nifty_200.Symbol.values, index=Quality_exp_df.index)\n",
    "Value_position_df = pd.DataFrame(columns=nifty_200.Symbol.values, index=Value_exp_df.index)\n",
    "Liquidity_position_df = pd.DataFrame(columns=nifty_200.Symbol.values, index=Liquidity_exp_df.index)\n",
    "Size_position_df = pd.DataFrame(columns=nifty_200.Symbol.values, index=Size_exp_df.index)\n",
    "\n",
    "for current_date in Market_exp_df.index:\n",
    "#     print('Processing Date '+ str(current_date))\n",
    "    Market_portfolio_stocks = Market_exp_df.loc[current_date,:].dropna().sort_values(ascending=False).head(stock_count).index\n",
    "    Momentum_portfolio_stocks = Momentum_exp_df.loc[current_date,:].dropna().sort_values(ascending=False).head(stock_count).index\n",
    "    Quality_portfolio_stocks = Quality_exp_df.loc[current_date,:].dropna().sort_values(ascending=False).head(stock_count).index\n",
    "    Value_portfolio_stocks = Value_exp_df.loc[current_date,:].dropna().sort_values(ascending=False).head(stock_count).index\n",
    "    Liquidity_portfolio_stocks = Liquidity_exp_df.loc[current_date,:].dropna().sort_values(ascending=False).head(stock_count).index\n",
    "    Size_portfolio_stocks = Size_exp_df.loc[current_date,:].dropna().sort_values(ascending=False).head(stock_count).index\n",
    "\n",
    "    for stock in nifty_200.Symbol:\n",
    "        if stock in Market_portfolio_stocks:\n",
    "            try:\n",
    "                Market_position_df.loc[current_date, stock] = 1/25\n",
    "            except:\n",
    "                Market_position_df.loc[current_date, stock] = 0\n",
    "        else:\n",
    "            Market_position_df.loc[current_date, stock] = 0\n",
    "            \n",
    "        if stock in Momentum_portfolio_stocks:\n",
    "            try:\n",
    "                Momentum_position_df.loc[current_date, stock] = 1/25\n",
    "            except:\n",
    "                Momentum_position_df.loc[current_date, stock] = 0\n",
    "        else:\n",
    "            Momentum_position_df.loc[current_date, stock] = 0\n",
    "            \n",
    "        if stock in Quality_portfolio_stocks:\n",
    "            try:\n",
    "                Quality_position_df.loc[current_date, stock] = 1/25\n",
    "            except:\n",
    "                Quality_position_df.loc[current_date, stock] = 0\n",
    "        else:\n",
    "            Quality_position_df.loc[current_date, stock] = 0\n",
    "            \n",
    "        if stock in Value_portfolio_stocks:\n",
    "            try:\n",
    "                Value_position_df.loc[current_date, stock] = 1/25\n",
    "            except:\n",
    "                Value_position_df.loc[current_date, stock] = 0\n",
    "        else:\n",
    "            Value_position_df.loc[current_date, stock] = 0\n",
    "            \n",
    "        if stock in Liquidity_portfolio_stocks:\n",
    "            try:\n",
    "                Liquidity_position_df.loc[current_date, stock] = 1/25\n",
    "            except:\n",
    "                Liquidity_position_df.loc[current_date, stock] = 0\n",
    "        else:\n",
    "            Liquidity_exp_df.loc[current_date, stock] = 0\n",
    "            \n",
    "        if stock in Size_portfolio_stocks:\n",
    "            try:\n",
    "                Size_position_df.loc[current_date, stock] = 1/25\n",
    "            except:\n",
    "                Size_position_df.loc[current_date, stock] = 0\n",
    "        else:\n",
    "            Size_position_df.loc[current_date, stock] = 0"
   ]
  },
  {
   "cell_type": "code",
   "execution_count": 8,
   "metadata": {},
   "outputs": [],
   "source": [
    "Market_position_df.to_pickle('database\\MarketPortfolioWeights26Oct20.pickle')\n",
    "Momentum_position_df.to_pickle('database\\MomentumPortfolioWeights26Oct20.pickle')\n",
    "Quality_position_df.to_pickle('database\\QualityPortfolioWeights26Oct20.pickle')\n",
    "Value_position_df.to_pickle('database\\ValuePortfolioWeights26Oct20.pickle')\n",
    "Liquidity_position_df.to_pickle('database\\LiquidityPortfolioWeights26Oct20.pickle')\n",
    "Size_position_df.to_pickle('database\\SizePortfolioWeights26Oct20.pickle')"
   ]
  }
 ],
 "metadata": {
  "kernelspec": {
   "display_name": "Python 3",
   "language": "python",
   "name": "python3"
  },
  "language_info": {
   "codemirror_mode": {
    "name": "ipython",
    "version": 3
   },
   "file_extension": ".py",
   "mimetype": "text/x-python",
   "name": "python",
   "nbconvert_exporter": "python",
   "pygments_lexer": "ipython3",
   "version": "3.7.4"
  }
 },
 "nbformat": 4,
 "nbformat_minor": 4
}
