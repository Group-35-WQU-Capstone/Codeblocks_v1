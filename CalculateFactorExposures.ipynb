{
 "cells": [
  {
   "cell_type": "code",
   "execution_count": 1,
   "metadata": {},
   "outputs": [],
   "source": [
    "import pandas as pd\n",
    "import numpy as np\n",
    "import statsmodels.api as sm\n",
    "from statsmodels.regression.rolling import RollingOLS"
   ]
  },
  {
   "cell_type": "code",
   "execution_count": 2,
   "metadata": {},
   "outputs": [],
   "source": [
    "factor_returns_df = pd.read_pickle('database\\monthly_factor_returns_26Oct20.pickle')\n",
    "master_df_final = pd.read_pickle('database\\master_df_final_26Oct20.pickle')\n",
    "nifty_200 = pd.read_csv('database\\ind_nifty200list.csv')"
   ]
  },
  {
   "cell_type": "code",
   "execution_count": 3,
   "metadata": {},
   "outputs": [],
   "source": [
    "start_date = min(factor_returns_df.Date)"
   ]
  },
  {
   "cell_type": "code",
   "execution_count": 4,
   "metadata": {},
   "outputs": [],
   "source": [
    "master_df_final.rename(columns={'formatted_date':'Date'},inplace=True)"
   ]
  },
  {
   "cell_type": "code",
   "execution_count": 6,
   "metadata": {},
   "outputs": [
    {
     "name": "stdout",
     "output_type": "stream",
     "text": [
      "Error calculating beta for ADANIGAS\n",
      "Error calculating beta for ADANIGREEN\n",
      "Error calculating beta for DALBHARAT\n",
      "Error calculating beta for HDFCAMC\n",
      "Error calculating beta for IRCTC\n",
      "Error calculating beta for POLYCAB\n",
      "Error calculating beta for SBICARD\n",
      "Error calculating beta for YESBANK\n"
     ]
    }
   ],
   "source": [
    "look_back_window = 12 \n",
    "Market_exp_df = pd.DataFrame()\n",
    "three_mreturn_exp = pd.DataFrame()\n",
    "Profitability_exp = pd.DataFrame()\n",
    "BookToPrice_exp = pd.DataFrame()\n",
    "Liquidity_exp = pd.DataFrame()\n",
    "LogMcap_exp = pd.DataFrame()\n",
    "for stock in np.unique(master_df_final.Symbol):\n",
    "#     print(\"fetching data for \"+stock)\n",
    "    try:\n",
    "\n",
    "        #Calculting Beta\n",
    "        # split dependent and independent variable\n",
    "        X = factor_returns_df.set_index(['Date'])\n",
    "        y = master_df_final.loc[(master_df_final.Symbol == stock) & (master_df_final.Date>= start_date),:].set_index(['Date'])['1mreturn']\n",
    "\n",
    "        # Add a constant to the independent value\n",
    "        X1 = sm.add_constant(X)\n",
    "\n",
    "        # make regression model \n",
    "        model = RollingOLS(y, X1, window=look_back_window)\n",
    "\n",
    "        # fit model and print results\n",
    "        results = model.fit()\n",
    "        factors_list = ['Market', '3mreturn', '6mreturn', 'Profitability', 'BookToPrice', 'Liquidity', 'LogMcap']\n",
    "        current_stock_Market_exp = results.params.dropna()[['Market']].rename(columns={'Market': stock})\n",
    "        current_stock_3mreturn_exp = results.params.dropna()[['3mreturn']].rename(columns={'3mreturn': stock})\n",
    "        current_stock_Profitability_exp = results.params.dropna()[['Profitability']].rename(columns={'Profitability': stock})\n",
    "        current_stock_BookToPrice_exp = results.params.dropna()[['BookToPrice']].rename(columns={'BookToPrice': stock})\n",
    "        current_stock_Liquidity_exp = results.params.dropna()[['Liquidity']].rename(columns={'Liquidity': stock})\n",
    "        current_stock_LogMcap_exp = results.params.dropna()[['LogMcap']].rename(columns={'LogMcap': stock})\n",
    "        Market_exp_df = pd.concat([Market_exp_df, current_stock_Market_exp], axis=1)\n",
    "        three_mreturn_exp = pd.concat([three_mreturn_exp, current_stock_3mreturn_exp], axis=1)\n",
    "        Profitability_exp = pd.concat([Profitability_exp, current_stock_Profitability_exp], axis=1)\n",
    "        BookToPrice_exp = pd.concat([BookToPrice_exp, current_stock_BookToPrice_exp], axis=1)\n",
    "        Liquidity_exp = pd.concat([Liquidity_exp, current_stock_Liquidity_exp], axis=1)\n",
    "        LogMcap_exp = pd.concat([LogMcap_exp, current_stock_LogMcap_exp], axis=1)\n",
    "    except:\n",
    "        print(\"Error calculating beta for \"+stock)"
   ]
  },
  {
   "cell_type": "code",
   "execution_count": 7,
   "metadata": {},
   "outputs": [],
   "source": [
    "Market_exp_df.to_pickle('database\\MarketExposure26Oct20.pickle')\n",
    "three_mreturn_exp.to_pickle('database\\MomentumExposure26Oct20.pickle')\n",
    "Profitability_exp.to_pickle('database\\QualityExposure26Oct20.pickle')\n",
    "BookToPrice_exp.to_pickle('database\\ValueExposure26Oct20.pickle')\n",
    "Liquidity_exp.to_pickle('database\\LiquidityExposure26Oct20.pickle')\n",
    "LogMcap_exp.to_pickle('database\\SizeExposure26Oct20.pickle')"
   ]
  }
 ],
 "metadata": {
  "kernelspec": {
   "display_name": "Python 3",
   "language": "python",
   "name": "python3"
  },
  "language_info": {
   "codemirror_mode": {
    "name": "ipython",
    "version": 3
   },
   "file_extension": ".py",
   "mimetype": "text/x-python",
   "name": "python",
   "nbconvert_exporter": "python",
   "pygments_lexer": "ipython3",
   "version": "3.7.4"
  }
 },
 "nbformat": 4,
 "nbformat_minor": 4
}
