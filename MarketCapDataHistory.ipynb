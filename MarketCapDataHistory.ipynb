{
 "cells": [
  {
   "cell_type": "code",
   "execution_count": 2,
   "metadata": {},
   "outputs": [],
   "source": [
    "from yahoofinancials import YahooFinancials\n",
    "import numpy as np\n",
    "import pandas as pd\n",
    "import pickle"
   ]
  },
  {
   "cell_type": "code",
   "execution_count": 3,
   "metadata": {},
   "outputs": [],
   "source": [
    "nifty_200 = pd.read_csv('database\\ind_nifty200list.csv')"
   ]
  },
  {
   "cell_type": "code",
   "execution_count": 1,
   "metadata": {},
   "outputs": [],
   "source": [
    "start_date = '2014-01-01'\n",
    "end_date = '2020-09-30'\n",
    "\n",
    "price_df = pd.DataFrame()\n",
    "for stock in nifty_200.Symbol:\n",
    "    print(\"fetching data for \"+stock)\n",
    "    try:\n",
    "        current_price_data = pd.DataFrame(YahooFinancials(stock+'.NS').get_historical_price_data(start_date, end_date, 'monthly')[stock+'.NS']['prices'])\n",
    "        current_price_data['MarketCap'] = current_price_data['adjclose'] * YahooFinancials(stock+'.NS').get_num_shares_outstanding()\n",
    "        current_price_data['Symbol'] = stock\n",
    "        price_df = price_df.append(current_price_data)\n",
    "    except:\n",
    "        print(\"data not available for \"+stock)"
   ]
  },
  {
   "cell_type": "code",
   "execution_count": 5,
   "metadata": {},
   "outputs": [],
   "source": [
    "price_df.to_pickle('database\\\\nifty_200_stocks_price_data_24Oct20.pickle')"
   ]
  },
  {
   "cell_type": "code",
   "execution_count": 4,
   "metadata": {},
   "outputs": [],
   "source": [
    "price_df = pd.read_pickle('database\\\\nifty_200_stocks_price_data_24Oct20.pickle')"
   ]
  },
  {
   "cell_type": "code",
   "execution_count": 10,
   "metadata": {},
   "outputs": [],
   "source": [
    "master_df = price_df.copy()\n",
    "master_df['GrossProfit'] = 0\n",
    "master_df['BookValue'] = 0\n",
    "for stock in nifty_200.Symbol:\n",
    "    print(\"fetching data for \"+stock)\n",
    "    try:\n",
    "        inc_stmt = YahooFinancials(stock+'.NS').get_financial_stmts('annual', 'income')['incomeStatementHistory'][stock+'.NS']\n",
    "        balance_sheet = YahooFinancials(stock+'.NS').get_financial_stmts('annual', 'balance')['balanceSheetHistory'][stock+'.NS']\n",
    "        for i in range(len(inc_stmt)):\n",
    "            current_date = list(inc_stmt[i].keys())[0]\n",
    "            gross_profit = inc_stmt[i][current_date]['grossProfit']\n",
    "            book_value = balance_sheet[i][current_date]['commonStock']\n",
    "            if i > 0:\n",
    "                previous_date = list(inc_stmt[i-1].keys())[0]\n",
    "                master_df.loc[(master_df.formatted_date>=current_date) & (master_df['Symbol'] == stock) & (master_df['formatted_date'] < previous_date),['GrossProfit']] = gross_profit\n",
    "                master_df.loc[(master_df.formatted_date>=current_date) & (master_df['Symbol'] == stock)  & (master_df['formatted_date'] < previous_date) ,['BookValue']] = book_value\n",
    "            else:\n",
    "                master_df.loc[(master_df.formatted_date>=current_date) & (master_df['Symbol'] == stock),['GrossProfit']] = gross_profit\n",
    "                master_df.loc[(master_df.formatted_date>=current_date) & (master_df['Symbol'] == stock) ,['BookValue']] = book_value\n",
    "    except:\n",
    "        print(\"data not available for \"+stock)"
   ]
  },
  {
   "cell_type": "code",
   "execution_count": 8,
   "metadata": {},
   "outputs": [],
   "source": [
    "master_df.to_pickle('database\\master_df_data_24Oct20.pickle')"
   ]
  }
 ],
 "metadata": {
  "kernelspec": {
   "display_name": "Python 3",
   "language": "python",
   "name": "python3"
  },
  "language_info": {
   "codemirror_mode": {
    "name": "ipython",
    "version": 3
   },
   "file_extension": ".py",
   "mimetype": "text/x-python",
   "name": "python",
   "nbconvert_exporter": "python",
   "pygments_lexer": "ipython3",
   "version": "3.7.4"
  }
 },
 "nbformat": 4,
 "nbformat_minor": 4
}
