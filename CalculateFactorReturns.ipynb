{
 "cells": [
  {
   "cell_type": "code",
   "execution_count": 6,
   "metadata": {},
   "outputs": [],
   "source": [
    "import pandas as pd\n",
    "import numpy as np"
   ]
  },
  {
   "cell_type": "code",
   "execution_count": 7,
   "metadata": {},
   "outputs": [],
   "source": [
    "master_df_final = pd.read_pickle('database\\master_df_final_26Oct20.pickle')\n",
    "nifty_200 = pd.read_csv('database\\ind_nifty200list.csv')"
   ]
  },
  {
   "cell_type": "code",
   "execution_count": 8,
   "metadata": {},
   "outputs": [],
   "source": [
    "master_df_final = master_df_final.merge(nifty_200.loc[:,['Symbol', 'Industry']], how='left', left_on=['Symbol'], right_on=['Symbol'])"
   ]
  },
  {
   "cell_type": "code",
   "execution_count": 9,
   "metadata": {},
   "outputs": [],
   "source": [
    "master_df_final.loc[:,'1mForwardRet'] = master_df_final['1mreturn'].shift(1)"
   ]
  },
  {
   "cell_type": "code",
   "execution_count": 10,
   "metadata": {},
   "outputs": [],
   "source": [
    "def using_nth(df):\n",
    "    to_del = df.groupby('Symbol',as_index=False).nth(0)\n",
    "    return pd.concat([df,to_del]).drop_duplicates(keep=False)"
   ]
  },
  {
   "cell_type": "code",
   "execution_count": 11,
   "metadata": {},
   "outputs": [],
   "source": [
    "master_df_final = using_nth(master_df_final)"
   ]
  },
  {
   "cell_type": "code",
   "execution_count": 12,
   "metadata": {},
   "outputs": [],
   "source": [
    "dates = master_df_final.loc[master_df_final.Symbol == 'ACC',['formatted_date']]\n",
    "dates = dates[11:]\n",
    "dates.reset_index(inplace=True)\n",
    "dates = dates.formatted_date"
   ]
  },
  {
   "cell_type": "code",
   "execution_count": 15,
   "metadata": {},
   "outputs": [],
   "source": [
    "factors_df = pd.DataFrame()\n",
    "factors_list = ['3mreturn', 'Profitability', 'BookToPrice', 'Liquidity', 'LogMcap']\n",
    "for i in range(len(dates)):\n",
    "    current_date = dates[i]\n",
    "#     print('Processing Date '+ str(current_date))\n",
    "    current_df_final = master_df_final.loc[master_df_final.formatted_date == current_date,:].copy()\n",
    "    current_df_final.loc[:,'MarketCapWeight'] = current_df_final.loc[:,'MarketCap'] / sum(current_df_final.loc[:,'MarketCap'])\n",
    "    #current_df_final = current_df_final.merge(current_df_final.groupby(['Industry'])['MarketCap'].sum(), how='left', on=['Industry']).rename(columns={'MarketCap_y':'TotalMarketCap', 'MarketCap_x':'MarketCap'})\n",
    "    #current_df_final.loc[:,'IndustryMarketCapWeight'] = current_df_final.loc[:,'MarketCap'] / current_df_final.loc[:,'TotalMarketCap']\n",
    "    quintile_number = int(len(current_df_final.dropna())*0.20)\n",
    "    current_fact_df = pd.DataFrame({'Date' : [current_date], 'Market': [sum(current_df_final['1mForwardRet'] * current_df_final['MarketCapWeight'])]})\n",
    "    for factor in factors_list:\n",
    "#         print('Processing '+factor)\n",
    "        current_fact_df.loc[:,factor] = np.mean(current_df_final.sort_values([factor], ascending=[0]).tail(quintile_number)['1mForwardRet']) - np.mean(current_df_final.sort_values([factor], ascending=[0]).head(quintile_number)['1mForwardRet'])\n",
    "    #for industry in industry_factors:\n",
    "    #    print('Processing '+industry)\n",
    "    #    current_fact_df.loc[:,industry] = sum(current_df_final.loc[current_df_final.Industry == current_industry,:]['IndustryMarketCapWeight'] * current_df_final.loc[current_df_final.Industry == current_industry,:]['1mForwardRet'])\n",
    "    factors_df = pd.concat([factors_df, current_fact_df], axis=0)"
   ]
  },
  {
   "cell_type": "code",
   "execution_count": 18,
   "metadata": {},
   "outputs": [],
   "source": [
    "factors_df.to_pickle('database\\monthly_factor_returns_26Oct20.pickle')"
   ]
  }
 ],
 "metadata": {
  "kernelspec": {
   "display_name": "Python 3",
   "language": "python",
   "name": "python3"
  },
  "language_info": {
   "codemirror_mode": {
    "name": "ipython",
    "version": 3
   },
   "file_extension": ".py",
   "mimetype": "text/x-python",
   "name": "python",
   "nbconvert_exporter": "python",
   "pygments_lexer": "ipython3",
   "version": "3.7.4"
  }
 },
 "nbformat": 4,
 "nbformat_minor": 4
}
